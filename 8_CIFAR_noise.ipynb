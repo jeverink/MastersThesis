{
 "cells": [
  {
   "cell_type": "markdown",
   "metadata": {},
   "source": [
    "# Experiment 8:\n",
    "## Reconstruction with dithering, CIFAR-10, stronger noise\n",
    "\n",
    "This experiment shows the behaviour of the regularized reconstruction method with dithering on the CIFAR-10 data set for various  levels of noise using a generative model."
   ]
  },
  {
   "cell_type": "code",
   "execution_count": 1,
   "metadata": {},
   "outputs": [],
   "source": [
    "import numpy as np;\n",
    "import numpy.linalg as linalg;\n",
    "\n",
    "import matplotlib.pyplot as plt;\n",
    "from matplotlib.pyplot import figure;\n",
    "\n",
    "import pywt;\n",
    "\n",
    "import torch;\n",
    "import torch.nn as nn;\n",
    "import torch.nn.functional as F;\n",
    "import torch.optim as optim;\n",
    "\n",
    "from torch.utils.data import DataLoader;\n",
    "import torchvision;\n",
    "import torchvision.transforms as transforms;\n",
    "\n",
    "from torch.autograd import Variable\n",
    "\n",
    "import pickle;\n",
    "import time;\n",
    "import random;\n",
    "import math;\n",
    "\n",
    "from IPython.display import clear_output;\n",
    "from PIL import Image\n",
    "\n",
    "import os\n",
    "\n",
    "import CIFAR10_utils as CIFAR;\n",
    "import CIFAR10_generative as generative;\n",
    "import sparsity_utils as sparsity;\n",
    "import general_utils as utils;"
   ]
  },
  {
   "cell_type": "markdown",
   "metadata": {},
   "source": [
    "# Initialization"
   ]
  },
  {
   "cell_type": "code",
   "execution_count": 2,
   "metadata": {},
   "outputs": [
    {
     "name": "stdout",
     "output_type": "stream",
     "text": [
      "Files already downloaded and verified\n",
      "Files already downloaded and verified\n"
     ]
    }
   ],
   "source": [
    "(train_data, test_data), (train_loader, test_loader) = CIFAR.load_dataset();\n",
    "sigma = [0.0, 25.0, 50.0];\n",
    "\n",
    "mspace_gen = [2000, 10000, 20000];\n",
    "lambda_space = np.linspace(1, 150, 3); #25\n",
    "\n",
    "repetitions = 1; #3\n",
    "img_num = 5;"
   ]
  },
  {
   "cell_type": "code",
   "execution_count": null,
   "metadata": {},
   "outputs": [],
   "source": [
    "utils.reset_seeds();\n",
    "autoEncoder = generative.createNetwork();\n",
    "generative.trainNetwork(autoEncoder, train_loader);\n",
    "\n",
    "projector = lambda x : generative.project(x, autoEncoder , num_epochs = 50, learning_rate = 0.001);"
   ]
  },
  {
   "cell_type": "code",
   "execution_count": null,
   "metadata": {},
   "outputs": [],
   "source": [
    "results = [[[len(lambda_space)*[0] for j in range(img_num)] for i in range(len(mspace_gen))] for k in sigma];\n",
    "\n",
    "utils.reset_seeds();\n",
    "for s in range(len(sigma)):\n",
    "    noise = sigma[s];\n",
    "    for i in range(len(mspace_gen)):\n",
    "        m = mspace_gen[i];\n",
    "\n",
    "        for j in range(img_num):\n",
    "            x_true = CIFAR.getImageAsVector(test_loader, j);\n",
    "\n",
    "            for k in range(len(lambda_space)):\n",
    "                lamb = lambda_space[k];\n",
    "\n",
    "                accum = 0;\n",
    "                for n in range(repetitions):\n",
    "                    A = None;\n",
    "                    A, q = utils.generateMeasurements_Gaussian_dithering(x_true, m, noise, lamb);      \n",
    "                    x, acc, obj =  CIFAR.reconstruct_regularized_dithering(A, q, lamb, x_true, projector, learning_param = 0.2, iterations = 50);\n",
    "                    accum += acc;\n",
    "                results[s][i][j][k] = accum/repetitions;\n",
    "                print(lamb);\n",
    "\n",
    "            clear_output(wait=True);\n",
    "            plt.yscale('log');\n",
    "            for ss in range(s+1):\n",
    "                for ii in range(i+1):\n",
    "                    for jj in range(j+1):\n",
    "                        col = 'b';\n",
    "                        if ss == 0:\n",
    "                            col = 'b';\n",
    "                        elif ss == 1:\n",
    "                            col = 'r';\n",
    "                        else:\n",
    "                            col = 'g';\n",
    "                        plt.plot(lambda_space, results[ss][ii][jj], c=col);\n",
    "            plt.show();"
   ]
  },
  {
   "cell_type": "code",
   "execution_count": null,
   "metadata": {},
   "outputs": [],
   "source": [
    "saveData(results, \"data_results/cifar_noise.data\");"
   ]
  },
  {
   "cell_type": "code",
   "execution_count": null,
   "metadata": {},
   "outputs": [],
   "source": [
    "plt.yscale('log');\n",
    "for i in range(len(mspace_gen)):\n",
    "    for j in range(img_num):\n",
    "        plt.plot(lambda_space, results[0][i][j], 'b');"
   ]
  },
  {
   "cell_type": "code",
   "execution_count": null,
   "metadata": {},
   "outputs": [],
   "source": [
    "plt.plot(lambda_space, np.mean(results[0][0], axis=0), 'b');\n",
    "plt.plot(lambda_space, np.mean(results[1][0], axis=0), 'r');\n",
    "plt.plot(lambda_space, np.mean(results[2][0], axis=0), 'g');\n",
    "\n",
    "plt.yscale(\"log\");\n",
    "plt.legend([r\"$\\sigma = 0$\", r\"$\\sigma = 25$\", r\"$\\sigma = 50$\"]);\n",
    "plt.xlabel(r\"$\\lambda$\");\n",
    "plt.ylabel(\"error\");\n",
    "plt.title(\"m = 2000\");\n",
    "\n",
    "plt.savefig(\"results_images/cifar_dithering_gaussian_lambda.png\", dpi=200);"
   ]
  },
  {
   "cell_type": "code",
   "execution_count": null,
   "metadata": {},
   "outputs": [],
   "source": [
    "plt.plot(lambda_space, np.mean(results[0][1], axis=0), 'b');\n",
    "plt.plot(lambda_space, np.mean(results[1][1], axis=0), 'r');\n",
    "plt.plot(lambda_space, np.mean(results[2][1], axis=0), 'g');\n",
    "\n",
    "plt.yscale(\"log\");\n",
    "plt.legend([r\"$\\sigma = 0$\", r\"$\\sigma = 25$\", r\"$\\sigma = 50$\"]);\n",
    "plt.xlabel(r\"$\\lambda$\");\n",
    "plt.ylabel(\"error\");\n",
    "plt.title(\"m = 10000\");\n",
    "\n",
    "plt.savefig(\"results_images/cifar_dithering_gaussian_lambda.png\", dpi=200);"
   ]
  },
  {
   "cell_type": "code",
   "execution_count": null,
   "metadata": {},
   "outputs": [],
   "source": [
    "plt.plot(lambda_space, np.mean(results[0][2], axis=0), 'b');\n",
    "plt.plot(lambda_space, np.mean(results[1][2], axis=0), 'r');\n",
    "plt.plot(lambda_space, np.mean(results[2][2], axis=0), 'g');\n",
    "\n",
    "plt.yscale(\"log\");\n",
    "plt.legend([r\"$\\sigma = 0$\", r\"$\\sigma = 25$\", r\"$\\sigma = 50$\"]);\n",
    "plt.xlabel(r\"$\\lambda$\");\n",
    "plt.ylabel(\"error\");\n",
    "plt.title(\"m = 20000\");\n",
    "\n",
    "plt.savefig(\"results_images/cifar_dithering_gaussian_lambda.png\", dpi=200);"
   ]
  },
  {
   "cell_type": "code",
   "execution_count": null,
   "metadata": {},
   "outputs": [],
   "source": [
    "f = plt.figure(figsize=(10,3));\n",
    "ax1 = f.add_subplot(131);\n",
    "ax2 = f.add_subplot(132);\n",
    "ax3 = f.add_subplot(133);\n",
    "\n",
    "\n",
    "ax1.plot(lambda_space, np.mean(results[0][0], axis=0), 'b');\n",
    "ax1.plot(lambda_space, np.mean(results[1][0], axis=0), 'r');\n",
    "ax1.plot(lambda_space, np.mean(results[2][0], axis=0), 'g');\n",
    "\n",
    "ax1.set_yscale(\"log\");\n",
    "ax1.legend([r\"$\\sigma = 0$\", r\"$\\sigma = 25$\", r\"$\\sigma = 50$\"]);\n",
    "ax1.set_xlabel(r\"$\\lambda$\");\n",
    "ax1.set_ylabel(\"error\");\n",
    "ax1.set_title(\"m = 2000\");\n",
    "ax1.set_ylim([6, 30]);\n",
    "\n",
    "\n",
    "\n",
    "ax2.plot(lambda_space, np.mean(results[0][1], axis=0), 'b');\n",
    "ax2.plot(lambda_space, np.mean(results[1][1], axis=0), 'r');\n",
    "ax2.plot(lambda_space, np.mean(results[2][1], axis=0), 'g');\n",
    "\n",
    "ax2.set_yscale(\"log\");\n",
    "ax2.legend([r\"$\\sigma = 0$\", r\"$\\sigma = 25$\", r\"$\\sigma = 50$\"]);\n",
    "ax2.set_xlabel(r\"$\\lambda$\");\n",
    "ax2.set_ylabel(\"error\");\n",
    "ax2.set_title(\"m = 10000\");\n",
    "ax2.set_ylim([6, 30]);\n",
    "ax2.get_yaxis().set_visible(False)\n",
    "\n",
    "\n",
    "ax3.plot(lambda_space, np.mean(results[0][2], axis=0), 'b');\n",
    "ax3.plot(lambda_space, np.mean(results[1][2], axis=0), 'r');\n",
    "ax3.plot(lambda_space, np.mean(results[2][2], axis=0), 'g');\n",
    "\n",
    "ax3.set_yscale(\"log\");\n",
    "ax3.legend([r\"$\\sigma = 0$\", r\"$\\sigma = 25$\", r\"$\\sigma = 50$\"]);\n",
    "ax3.set_xlabel(r\"$\\lambda$\");\n",
    "ax3.set_ylabel(\"error\");\n",
    "ax3.set_title(\"m = 20000\");\n",
    "ax3.set_ylim([6, 30]);\n",
    "ax3.get_yaxis().set_visible(False)\n",
    "\n",
    "plt.savefig(\"results_images/cifar_dithering_noise_lambda.png\", dpi=200);"
   ]
  },
  {
   "cell_type": "code",
   "execution_count": null,
   "metadata": {},
   "outputs": [],
   "source": []
  }
 ],
 "metadata": {
  "kernelspec": {
   "display_name": "Python 3",
   "language": "python",
   "name": "python3"
  },
  "language_info": {
   "codemirror_mode": {
    "name": "ipython",
    "version": 3
   },
   "file_extension": ".py",
   "mimetype": "text/x-python",
   "name": "python",
   "nbconvert_exporter": "python",
   "pygments_lexer": "ipython3",
   "version": "3.8.5"
  }
 },
 "nbformat": 4,
 "nbformat_minor": 4
}
